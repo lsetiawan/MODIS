{
 "cells": [
  {
   "cell_type": "markdown",
   "metadata": {
    "collapsed": true
   },
   "source": [
    "# MODIS DATA MANIPULATION\n",
    "### By Landung Setiawan"
   ]
  },
  {
   "cell_type": "code",
   "execution_count": 1,
   "metadata": {
    "collapsed": false
   },
   "outputs": [
    {
     "name": "stdout",
     "output_type": "stream",
     "text": [
      "WxPython missing, no GUI enabled\n"
     ]
    },
    {
     "name": "stderr",
     "output_type": "stream",
     "text": [
      "/home/lsetiawan/anaconda2/envs/climatology/lib/python2.7/site-packages/matplotlib/font_manager.py:273: UserWarning: Matplotlib is building the font cache using fc-list. This may take a moment.\n",
      "  warnings.warn('Matplotlib is building the font cache using fc-list. This may take a moment.')\n"
     ]
    }
   ],
   "source": [
    "import gdal,os,numpy as np,rasterio as rio, xarray as xr\n",
    "import version_information,glob,datetime,subprocess\n",
    "import pymodis\n",
    "from pyproj import Proj, transform\n",
    "from rasterio import crs\n",
    "from rasterio.errors import CRSError\n",
    "from rasterio.transform import Affine\n",
    "from rasterio.warp import (reproject, Resampling, calculate_default_transform, transform_bounds)\n",
    "from math import ceil\n",
    "import cartopy.crs as ccrs\n",
    "import matplotlib.pyplot as plt\n",
    "import requests\n",
    "\n",
    "gdal.UseExceptions()"
   ]
  },
  {
   "cell_type": "code",
   "execution_count": 2,
   "metadata": {
    "collapsed": false
   },
   "outputs": [],
   "source": [
    "%matplotlib inline"
   ]
  },
  {
   "cell_type": "code",
   "execution_count": 3,
   "metadata": {
    "collapsed": false
   },
   "outputs": [
    {
     "data": {
      "application/json": {
       "Software versions": [
        {
         "module": "Python",
         "version": "2.7.11 64bit [GCC 4.4.7 20120313 (Red Hat 4.4.7-1)]"
        },
        {
         "module": "IPython",
         "version": "4.2.0"
        },
        {
         "module": "OS",
         "version": "Linux 4.2.0 36 generic x86_64 with debian jessie sid"
        },
        {
         "module": "numpy",
         "version": "1.11.0"
        },
        {
         "module": "rasterio",
         "version": "0.35.1"
        },
        {
         "module": "xarray",
         "version": "0.7.2-18-g539f1ed"
        },
        {
         "module": "gdal",
         "version": "1.11.4"
        },
        {
         "module": "pymodis",
         "version": "1.0.2"
        }
       ]
      },
      "text/html": [
       "<table><tr><th>Software</th><th>Version</th></tr><tr><td>Python</td><td>2.7.11 64bit [GCC 4.4.7 20120313 (Red Hat 4.4.7-1)]</td></tr><tr><td>IPython</td><td>4.2.0</td></tr><tr><td>OS</td><td>Linux 4.2.0 36 generic x86_64 with debian jessie sid</td></tr><tr><td>numpy</td><td>1.11.0</td></tr><tr><td>rasterio</td><td>0.35.1</td></tr><tr><td>xarray</td><td>0.7.2-18-g539f1ed</td></tr><tr><td>gdal</td><td>1.11.4</td></tr><tr><td>pymodis</td><td>1.0.2</td></tr><tr><td colspan='2'>Fri Jun 10 16:34:45 2016 PDT</td></tr></table>"
      ],
      "text/latex": [
       "\\begin{tabular}{|l|l|}\\hline\n",
       "{\\bf Software} & {\\bf Version} \\\\ \\hline\\hline\n",
       "Python & 2.7.11 64bit [GCC 4.4.7 20120313 (Red Hat 4.4.7-1)] \\\\ \\hline\n",
       "IPython & 4.2.0 \\\\ \\hline\n",
       "OS & Linux 4.2.0 36 generic x86\\_64 with debian jessie sid \\\\ \\hline\n",
       "numpy & 1.11.0 \\\\ \\hline\n",
       "rasterio & 0.35.1 \\\\ \\hline\n",
       "xarray & 0.7.2-18-g539f1ed \\\\ \\hline\n",
       "gdal & 1.11.4 \\\\ \\hline\n",
       "pymodis & 1.0.2 \\\\ \\hline\n",
       "\\hline \\multicolumn{2}{|l|}{Fri Jun 10 16:34:45 2016 PDT} \\\\ \\hline\n",
       "\\end{tabular}\n"
      ],
      "text/plain": [
       "Software versions\n",
       "Python 2.7.11 64bit [GCC 4.4.7 20120313 (Red Hat 4.4.7-1)]\n",
       "IPython 4.2.0\n",
       "OS Linux 4.2.0 36 generic x86_64 with debian jessie sid\n",
       "numpy 1.11.0\n",
       "rasterio 0.35.1\n",
       "xarray 0.7.2-18-g539f1ed\n",
       "gdal 1.11.4\n",
       "pymodis 1.0.2\n",
       "Fri Jun 10 16:34:45 2016 PDT"
      ]
     },
     "execution_count": 3,
     "metadata": {},
     "output_type": "execute_result"
    }
   ],
   "source": [
    "# Ran with ioos conda env\n",
    "%load_ext version_information\n",
    "%version_information numpy, rasterio, xarray, gdal,pymodis"
   ]
  },
  {
   "cell_type": "markdown",
   "metadata": {},
   "source": [
    "## Create Tile List"
   ]
  },
  {
   "cell_type": "code",
   "execution_count": 4,
   "metadata": {
    "collapsed": false
   },
   "outputs": [
    {
     "name": "stdout",
     "output_type": "stream",
     "text": [
      "['h07v04', 'h07v05', 'h07v06', 'h07v07', 'h07v08', 'h08v04', 'h08v05', 'h08v06', 'h08v07', 'h08v08', 'h09v04', 'h09v05', 'h09v06', 'h09v07', 'h09v08', 'h10v04', 'h10v05', 'h10v06', 'h10v07', 'h10v08', 'h11v04', 'h11v05', 'h11v06', 'h11v07', 'h11v08', 'h12v04', 'h12v05', 'h12v06', 'h12v07', 'h12v08', 'h13v04', 'h13v05', 'h13v06', 'h13v07', 'h13v08']\n"
     ]
    }
   ],
   "source": [
    "def createTiles():\n",
    "    ''' \n",
    "    Function to create list of tiles to download.\n",
    "    In this case, MODIS tiles around lower 48 and central america are downloaded\n",
    "    Tiles are based on sinusoidal projection by NASA\n",
    "    \n",
    "    '''\n",
    "\n",
    "    h = []\n",
    "    v = []\n",
    "    tile = []\n",
    "\n",
    "    for k in range(7, 15):\n",
    "        h.append(k)\n",
    "    for l in range(4, 10):\n",
    "        v.append(l)\n",
    "    for i in range(0, len(h) - 1):\n",
    "        for j in range(0, len(v) - 1):\n",
    "            if h[i] < 10 and v[i] >= 10:\n",
    "                tile.append(\"h0\" + str(h[i]) + \"v\" + str(v[j]))\n",
    "            elif v[j] < 10 and h[i] >= 10:\n",
    "                tile.append(\"h\" + str(h[i]) + \"v0\" + str(v[j]))\n",
    "            elif h[i] < 10 and v[j] < 10:\n",
    "                tile.append(\"h0\" + str(h[i]) + \"v0\" + str(v[j]))\n",
    "            else:\n",
    "                tile.append(\"h\" + str(h[i]) + \"v\" + str(v[j]))\n",
    "    return tile\n",
    "tiles = createTiles()\n",
    "print(tiles)"
   ]
  },
  {
   "cell_type": "markdown",
   "metadata": {},
   "source": [
    "## Download MODIS Data"
   ]
  },
  {
   "cell_type": "code",
   "execution_count": 5,
   "metadata": {
    "collapsed": false
   },
   "outputs": [
    {
     "data": {
      "text/plain": [
       "datetime.date(2001, 2, 1)"
      ]
     },
     "execution_count": 5,
     "metadata": {},
     "output_type": "execute_result"
    }
   ],
   "source": [
    "#date = datetime.date.today()\n",
    "date = datetime.date(2001,2,1)\n",
    "today = date.strftime('%Y.%m.%d')\n",
    "date"
   ]
  },
  {
   "cell_type": "code",
   "execution_count": 6,
   "metadata": {
    "collapsed": false
   },
   "outputs": [],
   "source": [
    "# Variables for data download\n",
    "if not os.path.exists('data'):\n",
    "    os.makedirs('data')\n",
    "dest = \"data/\" # This directory must already exist BTW\n",
    "tiles = tiles\n",
    "day = date\n",
    "enddate = \"2001.01.01\" # The download works backward, so that enddate is anterior to day=\n",
    "product = \"MOD13A3.006\"\n",
    "\n",
    "#if not os.path.exists(os.path.join(dest,day)):\n",
    "#    os.makedirs(os.path.join(dest,day))\n",
    "\n",
    "#folder = os.path.join(dest,day)"
   ]
  },
  {
   "cell_type": "code",
   "execution_count": null,
   "metadata": {
    "collapsed": false
   },
   "outputs": [],
   "source": [
    "downloader = pymodis.downmodis.downModis(destinationFolder=dest, \n",
    "                                         tiles=tiles, today=day, enddate=enddate, product=product)\n",
    "downloader"
   ]
  },
  {
   "cell_type": "code",
   "execution_count": null,
   "metadata": {
    "collapsed": false
   },
   "outputs": [],
   "source": [
    "downloader.connect()\n",
    "print \"Connection Attempts: \" + str(downloader.nconnection)"
   ]
  },
  {
   "cell_type": "code",
   "execution_count": null,
   "metadata": {
    "collapsed": false
   },
   "outputs": [],
   "source": [
    "#get all files to download, for each day of interest\n",
    "downloads = []\n",
    "for day in downloader.getListDays():\n",
    "    print day\n",
    "    if not os.path.exists(os.path.join(dest,day)):\n",
    "        os.makedirs(os.path.join(dest,day))\n",
    "    files = downloader.getFilesList(day)\n",
    "    #print files\n",
    "    #make list of all the files \n",
    "    for f in files:\n",
    "        downloads.append((f,day))\n",
    "numDownload = len(downloads)\n",
    "print \"Files to Download: \" + str(numDownload)\n",
    "\n",
    "for filename, day in downloads:\n",
    "    print \"DL: \" + filename\n",
    "    downloader.downloadFile(filename,os.path.join(dest,day,filename),day)"
   ]
  },
  {
   "cell_type": "code",
   "execution_count": 52,
   "metadata": {
    "collapsed": false
   },
   "outputs": [
    {
     "name": "stdout",
     "output_type": "stream",
     "text": [
      "2000.02.01\n",
      "[]\n",
      "['data/2000.02.01/2000.02.01.tif', 'data/2000.02.01/MOD13A3.A2000032.h07v05.006.2015138123528.tif', 'data/2000.02.01/MOD13A3.A2000032.h07v06.006.2015138123527.tif', 'data/2000.02.01/MOD13A3.A2000032.h07v07.006.2015138123528.tif', 'data/2000.02.01/MOD13A3.A2000032.h08v04.006.2015138123529.tif', 'data/2000.02.01/MOD13A3.A2000032.h08v05.006.2015138123531.tif', 'data/2000.02.01/MOD13A3.A2000032.h08v06.006.2015138123531.tif', 'data/2000.02.01/MOD13A3.A2000032.h08v07.006.2015138123530.tif', 'data/2000.02.01/MOD13A3.A2000032.h08v08.006.2015138123528.tif', 'data/2000.02.01/MOD13A3.A2000032.h09v04.006.2015138123531.tif', 'data/2000.02.01/MOD13A3.A2000032.h09v05.006.2015138123531.tif', 'data/2000.02.01/MOD13A3.A2000032.h09v06.006.2015138123530.tif', 'data/2000.02.01/MOD13A3.A2000032.h09v07.006.2015138123530.tif', 'data/2000.02.01/MOD13A3.A2000032.h09v08.006.2015138123528.tif', 'data/2000.02.01/MOD13A3.A2000032.h10v04.006.2015138123531.tif', 'data/2000.02.01/MOD13A3.A2000032.h10v05.006.2015138123531.tif', 'data/2000.02.01/MOD13A3.A2000032.h10v06.006.2015138123529.tif', 'data/2000.02.01/MOD13A3.A2000032.h10v07.006.2015138123528.tif', 'data/2000.02.01/MOD13A3.A2000032.h10v08.006.2015138123531.tif', 'data/2000.02.01/MOD13A3.A2000032.h11v04.006.2015138123530.tif', 'data/2000.02.01/MOD13A3.A2000032.h11v05.006.2015138123529.tif', 'data/2000.02.01/MOD13A3.A2000032.h11v06.006.2015138123528.tif', 'data/2000.02.01/MOD13A3.A2000032.h11v07.006.2015138123527.tif', 'data/2000.02.01/MOD13A3.A2000032.h11v08.006.2015138123530.tif', 'data/2000.02.01/MOD13A3.A2000032.h12v04.006.2015138123531.tif', 'data/2000.02.01/MOD13A3.A2000032.h12v05.006.2015138123527.tif', 'data/2000.02.01/MOD13A3.A2000032.h12v07.006.2015138123527.tif', 'data/2000.02.01/MOD13A3.A2000032.h12v08.006.2015138123528.tif', 'data/2000.02.01/MOD13A3.A2000032.h13v04.006.2015138123528.tif', 'data/2000.02.01/MOD13A3.A2000032.h13v08.006.2015138123526.tif']\n",
      "{'count': 1, 'crs': {u'a': 6371007.181, u'lon_0': 0, u'no_defs': True, u'y_0': 0, u'b': 6371007.181, u'proj': u'sinu', u'x_0': 0, u'units': u'm'}, u'interleave': 'band', 'dtype': 'int16', 'driver': 'GTiff', 'transform': Affine(926.6254330549995, 0.0, -12231455.716333,\n",
      "       0.0, -926.6254330558334, 5559752.598333), 'height': 6000, 'width': 8400, u'tiled': False, 'nodata': -3000.0}\n",
      "2001.01.01\n",
      "['data/2001.01.01/MOD13A3.A2001001.h07v05.006.2015140093417.hdf', 'data/2001.01.01/MOD13A3.A2001001.h07v06.006.2015140093312.hdf', 'data/2001.01.01/MOD13A3.A2001001.h07v07.006.2015140091649.hdf', 'data/2001.01.01/MOD13A3.A2001001.h08v04.006.2015140093418.hdf', 'data/2001.01.01/MOD13A3.A2001001.h08v05.006.2015140093316.hdf', 'data/2001.01.01/MOD13A3.A2001001.h08v06.006.2015140092852.hdf', 'data/2001.01.01/MOD13A3.A2001001.h08v07.006.2015140093319.hdf', 'data/2001.01.01/MOD13A3.A2001001.h08v08.006.2015140093311.hdf', 'data/2001.01.01/MOD13A3.A2001001.h09v04.006.2015140092849.hdf', 'data/2001.01.01/MOD13A3.A2001001.h09v05.006.2015140091651.hdf', 'data/2001.01.01/MOD13A3.A2001001.h09v06.006.2015140093313.hdf']\n",
      "data/2001.01.01/MOD13A3.A2001001.h07v05.006.2015140093417.hdf\n",
      "data/2001.01.01/MOD13A3.A2001001.h07v06.006.2015140093312.hdf\n",
      "data/2001.01.01/MOD13A3.A2001001.h07v07.006.2015140091649.hdf\n",
      "data/2001.01.01/MOD13A3.A2001001.h08v04.006.2015140093418.hdf\n",
      "data/2001.01.01/MOD13A3.A2001001.h08v05.006.2015140093316.hdf\n",
      "data/2001.01.01/MOD13A3.A2001001.h08v06.006.2015140092852.hdf\n",
      "data/2001.01.01/MOD13A3.A2001001.h08v07.006.2015140093319.hdf\n",
      "data/2001.01.01/MOD13A3.A2001001.h08v08.006.2015140093311.hdf\n",
      "data/2001.01.01/MOD13A3.A2001001.h09v04.006.2015140092849.hdf\n",
      "data/2001.01.01/MOD13A3.A2001001.h09v05.006.2015140091651.hdf\n",
      "data/2001.01.01/MOD13A3.A2001001.h09v06.006.2015140093313.hdf\n",
      "['data/2001.01.01/MOD13A3.A2001001.h07v05.006.2015140093417.tif', 'data/2001.01.01/MOD13A3.A2001001.h07v06.006.2015140093312.tif', 'data/2001.01.01/MOD13A3.A2001001.h07v07.006.2015140091649.tif', 'data/2001.01.01/MOD13A3.A2001001.h08v04.006.2015140093418.tif', 'data/2001.01.01/MOD13A3.A2001001.h08v05.006.2015140093316.tif', 'data/2001.01.01/MOD13A3.A2001001.h08v06.006.2015140092852.tif', 'data/2001.01.01/MOD13A3.A2001001.h08v07.006.2015140093319.tif', 'data/2001.01.01/MOD13A3.A2001001.h08v08.006.2015140093311.tif', 'data/2001.01.01/MOD13A3.A2001001.h09v04.006.2015140092849.tif', 'data/2001.01.01/MOD13A3.A2001001.h09v05.006.2015140091651.tif', 'data/2001.01.01/MOD13A3.A2001001.h09v06.006.2015140093313.tif']\n",
      "{'count': 1, 'crs': {u'a': 6371007.181, u'lon_0': 0, u'no_defs': True, u'y_0': 0, u'b': 6371007.181, u'proj': u'sinu', u'x_0': 0, u'units': u'm'}, 'interleave': 'band', 'dtype': 'int16', 'driver': 'GTiff', 'transform': Affine(926.6254330549995, 0.0, -12231455.716333,\n",
      "       0.0, -926.6254330558334, 5559752.598333), 'height': 6000, 'width': 3600, 'tiled': False, 'nodata': -3000.0}\n",
      "2001.02.01\n",
      "[]\n",
      "['data/2001.02.01/2001.02.01.tif', 'data/2001.02.01/MOD13A3.A2001032.h07v05.006.2015142182319.tif', 'data/2001.02.01/MOD13A3.A2001032.h07v06.006.2015142182333.tif', 'data/2001.02.01/MOD13A3.A2001032.h07v07.006.2015142182332.tif', 'data/2001.02.01/MOD13A3.A2001032.h08v04.006.2015142182400.tif', 'data/2001.02.01/MOD13A3.A2001032.h08v05.006.2015142184206.tif', 'data/2001.02.01/MOD13A3.A2001032.h08v06.006.2015142182320.tif', 'data/2001.02.01/MOD13A3.A2001032.h08v07.006.2015142182322.tif', 'data/2001.02.01/MOD13A3.A2001032.h08v08.006.2015142182310.tif', 'data/2001.02.01/MOD13A3.A2001032.h09v04.006.2015142184154.tif', 'data/2001.02.01/MOD13A3.A2001032.h09v05.006.2015142182330.tif', 'data/2001.02.01/MOD13A3.A2001032.h09v06.006.2015142182309.tif', 'data/2001.02.01/MOD13A3.A2001032.h09v07.006.2015142182333.tif', 'data/2001.02.01/MOD13A3.A2001032.h09v08.006.2015142182326.tif', 'data/2001.02.01/MOD13A3.A2001032.h10v04.006.2015142182359.tif', 'data/2001.02.01/MOD13A3.A2001032.h10v05.006.2015142182308.tif', 'data/2001.02.01/MOD13A3.A2001032.h10v06.006.2015142182321.tif', 'data/2001.02.01/MOD13A3.A2001032.h10v07.006.2015142182319.tif', 'data/2001.02.01/MOD13A3.A2001032.h10v08.006.2015142182328.tif', 'data/2001.02.01/MOD13A3.A2001032.h11v04.006.2015142182317.tif', 'data/2001.02.01/MOD13A3.A2001032.h11v05.006.2015142182311.tif', 'data/2001.02.01/MOD13A3.A2001032.h11v06.006.2015142184148.tif', 'data/2001.02.01/MOD13A3.A2001032.h11v07.006.2015142182344.tif', 'data/2001.02.01/MOD13A3.A2001032.h11v08.006.2015142182448.tif', 'data/2001.02.01/MOD13A3.A2001032.h12v04.006.2015142184214.tif', 'data/2001.02.01/MOD13A3.A2001032.h12v05.006.2015142184206.tif', 'data/2001.02.01/MOD13A3.A2001032.h12v07.006.2015142182436.tif', 'data/2001.02.01/MOD13A3.A2001032.h12v08.006.2015142182340.tif', 'data/2001.02.01/MOD13A3.A2001032.h13v04.006.2015142182313.tif', 'data/2001.02.01/MOD13A3.A2001032.h13v08.006.2015142182307.tif']\n",
      "{'count': 1, 'crs': {u'a': 6371007.181, u'lon_0': 0, u'no_defs': True, u'y_0': 0, u'b': 6371007.181, u'proj': u'sinu', u'x_0': 0, u'units': u'm'}, u'interleave': 'band', 'dtype': 'int16', 'driver': 'GTiff', 'transform': Affine(926.6254330549995, 0.0, -12231455.716333,\n",
      "       0.0, -926.6254330558334, 5559752.598333), 'height': 6000, 'width': 8400, u'tiled': False, 'nodata': -3000.0}\n"
     ]
    }
   ],
   "source": [
    "for i in os.listdir(dest):\n",
    "    if \"tif\" in i or \"4326\" in i or \"txt\" in i or \"log\" in i or \"merge\" in i or \"climatology\" in i:\n",
    "        pass\n",
    "    else:\n",
    "        print i\n",
    "        folder = os.path.join(dest,i)\n",
    "        # Check that the data has been downloaded\n",
    "        MODIS_files = glob.glob(os.path.join(folder , '*.hdf'))\n",
    "        print MODIS_files\n",
    "        \n",
    "        convert2GTiff(MODIS_files)\n",
    "        mergeTile(i)"
   ]
  },
  {
   "cell_type": "markdown",
   "metadata": {},
   "source": [
    "## Extract EVI and Convert File to GeoTiffs"
   ]
  },
  {
   "cell_type": "code",
   "execution_count": 27,
   "metadata": {
    "collapsed": false
   },
   "outputs": [],
   "source": [
    "def convert2GTiff(MODIS_files):\n",
    "    for hdf in MODIS_files:\n",
    "        print(hdf)\n",
    "        name_list = hdf.split('/')[2].split('.')\n",
    "        file_name = '{0}.{1}.{2}.{3}.{4}'.format(name_list[0],name_list[1],name_list[2],name_list[3],name_list[4])\n",
    "\n",
    "        sds = gdal.Open(hdf)\n",
    "        subdata = sds.GetSubDatasets()\n",
    "\n",
    "        # QA\n",
    "        QA_src = gdal.Open(subdata[10][0])\n",
    "        QA_band = QA_src.GetRasterBand(1)\n",
    "\n",
    "\n",
    "        in_file = subdata[1][0]\n",
    "\n",
    "        ds = gdal.Open(in_file)\n",
    "        band = ds.GetRasterBand(1)\n",
    "\n",
    "        block_sizes = band.GetBlockSize()\n",
    "        x_block_size = block_sizes[0]\n",
    "        y_block_size = block_sizes[1]\n",
    "\n",
    "        xsize = band.XSize\n",
    "        ysize = band.YSize\n",
    "\n",
    "\n",
    "        driver = gdal.GetDriverByName('GTiff')\n",
    "        dst_ds = driver.Create(os.path.join(folder,\"{}.tif\".format(file_name)), xsize, ysize, 1, gdal.GDT_Int16)\n",
    "        dst_ds.SetGeoTransform(ds.GetGeoTransform())\n",
    "        dst_ds.SetProjection(ds.GetProjection())\n",
    "\n",
    "\n",
    "\n",
    "        for i in range(0, ysize, y_block_size):\n",
    "            if i + y_block_size < ysize:\n",
    "                rows = y_block_size\n",
    "            else:\n",
    "                rows = ysize - i\n",
    "            for j in range(0, xsize, x_block_size):\n",
    "                if j + x_block_size < xsize:\n",
    "                    cols = x_block_size\n",
    "                else:\n",
    "                    cols = xsize - j\n",
    "\n",
    "                data = band.ReadAsArray(j, i, cols, rows)\n",
    "                QA = QA_band.ReadAsArray(j, i, cols, rows)\n",
    "\n",
    "                # Perform value replacement and drop QA layer\n",
    "                data[np.logical_and(QA != 0, QA != 1)] = -3000\n",
    "\n",
    "                dst_ds.GetRasterBand(1).SetNoDataValue(-3000)\n",
    "                dst_ds.GetRasterBand(1).WriteArray(data,j,i)\n",
    "\n",
    "\n",
    "        dst_ds = None\n",
    "        # Close datasets and unallocate arrays\n",
    "        dst_ds = None\n",
    "        data = None\n",
    "        QA = None\n",
    "        band = None\n",
    "        QA_band = None"
   ]
  },
  {
   "cell_type": "code",
   "execution_count": null,
   "metadata": {
    "collapsed": false
   },
   "outputs": [],
   "source": [
    "MODIS_xml = glob.glob(os.path.join(folder , '*.hdf.xml'))\n",
    "MODIS_txt = glob.glob(os.path.join(folder , '*.txt'))\n",
    "\n",
    "#if MODIS_xml != []:\n",
    "#    [os.remove(xml) for xml in MODIS_xml]\n",
    "#if MODIS_txt != []:\n",
    "#    [os.remove(txt) for txt in MODIS_txt]\n",
    "#if MODIS_files != []:\n",
    "#    [os.remove(files) for files in MODIS_files]\n"
   ]
  },
  {
   "cell_type": "markdown",
   "metadata": {},
   "source": [
    "## Merge MODIS"
   ]
  },
  {
   "cell_type": "code",
   "execution_count": 30,
   "metadata": {
    "collapsed": false
   },
   "outputs": [],
   "source": [
    "from rasterio.merge import merge as merge_tool"
   ]
  },
  {
   "cell_type": "code",
   "execution_count": 34,
   "metadata": {
    "collapsed": false
   },
   "outputs": [],
   "source": [
    "def mergeTile(today):\n",
    "    Gtiff_files = glob.glob(os.path.join(folder , '*.tif'))\n",
    "    print Gtiff_files\n",
    "\n",
    "    merged = os.path.join(dest,'merged')\n",
    "    if not os.path.exists(merged):\n",
    "        os.makedirs(merged)\n",
    "\n",
    "    output = os.path.join(merged,'%s.tif' % (today))\n",
    "    with rio.Env():\n",
    "            sources = [rio.open(f) for f in Gtiff_files]\n",
    "            data, output_transform = merge_tool(sources)\n",
    "\n",
    "            profile = sources[0].profile\n",
    "            profile.pop('affine')\n",
    "            profile['transform'] = output_transform\n",
    "            profile['height'] = data.shape[1]\n",
    "            profile['width'] = data.shape[2]-1\n",
    "            profile['driver'] = 'GTiff'\n",
    "\n",
    "            print(profile)\n",
    "\n",
    "            with rio.open(output, 'w', **profile) as dst:\n",
    "                dst.write(data)"
   ]
  },
  {
   "cell_type": "code",
   "execution_count": null,
   "metadata": {
    "collapsed": false
   },
   "outputs": [],
   "source": [
    "dest"
   ]
  },
  {
   "cell_type": "markdown",
   "metadata": {},
   "source": [
    "## Calculate Climatology"
   ]
  },
  {
   "cell_type": "code",
   "execution_count": 9,
   "metadata": {
    "collapsed": false
   },
   "outputs": [
    {
     "name": "stdout",
     "output_type": "stream",
     "text": [
      "['data/merged/2001.01.01.tif']\n"
     ]
    },
    {
     "name": "stderr",
     "output_type": "stream",
     "text": [
      "/home/lsetiawan/anaconda2/envs/climatology/lib/python2.7/site-packages/ipykernel/__main__.py:10: FutureWarning: read_band() is deprecated and will be removed by Rasterio 1.0. Please use read() instead.\n"
     ]
    },
    {
     "name": "stdout",
     "output_type": "stream",
     "text": [
      "(6000, 3600)\n"
     ]
    },
    {
     "name": "stderr",
     "output_type": "stream",
     "text": [
      "/home/lsetiawan/anaconda2/envs/climatology/lib/python2.7/site-packages/ipykernel/__main__.py:10: FutureWarning: The value of this property will change in version 1.0. Please see https://github.com/mapbox/rasterio/issues/86 for details.\n",
      "/home/lsetiawan/anaconda2/envs/climatology/lib/python2.7/site-packages/rasterio/__init__.py:160: FutureWarning: GDAL-style transforms are deprecated and will not be supported in Rasterio 1.0.\n",
      "  transform = guard_transform(transform)\n",
      "/home/lsetiawan/anaconda2/envs/climatology/lib/python2.7/site-packages/rasterio/warp.py:248: FutureWarning: GDAL-style transforms are deprecated and will not be supported in Rasterio 1.0.\n",
      "  src_transform = guard_transform(src_transform).to_gdal()\n",
      "/home/lsetiawan/anaconda2/envs/climatology/lib/python2.7/site-packages/rasterio/warp.py:250: FutureWarning: GDAL-style transforms are deprecated and will not be supported in Rasterio 1.0.\n",
      "  dst_transform = guard_transform(dst_transform).to_gdal()\n"
     ]
    },
    {
     "name": "stdout",
     "output_type": "stream",
     "text": [
      "{'count': 1, 'crs': {u'a': 6371007.181, u'lon_0': 0, u'no_defs': True, u'y_0': 0, u'b': 6371007.181, u'proj': u'sinu', u'x_0': 0, u'units': u'm'}, u'interleave': 'band', 'dtype': 'int16', 'affine': Affine(926.6254330549995, 0.0, -12231455.716333,\n",
      "       0.0, -926.6254330558334, 5559752.598333), 'driver': u'GTiff', 'transform': (-12231455.716333, 926.6254330549995, 0.0, 5559752.598333, 0.0, -926.6254330558334), 'height': 6000, 'width': 3600, u'tiled': False, 'nodata': -3000}\n",
      "['data/merged/2000.02.01.tif', 'data/merged/2001.02.01.tif']\n",
      "(6000, 8400)\n",
      "{'count': 1, 'crs': {u'a': 6371007.181, u'lon_0': 0, u'no_defs': True, u'y_0': 0, u'b': 6371007.181, u'proj': u'sinu', u'x_0': 0, u'units': u'm'}, u'interleave': 'band', 'dtype': 'int16', 'affine': Affine(926.6254330549995, 0.0, -12231455.716333,\n",
      "       0.0, -926.6254330558334, 5559752.598333), 'driver': u'GTiff', 'transform': (-12231455.716333, 926.6254330549995, 0.0, 5559752.598333, 0.0, -926.6254330558334), 'height': 6000, 'width': 8400, u'tiled': False, 'nodata': -3000}\n",
      "[]\n"
     ]
    },
    {
     "ename": "IndexError",
     "evalue": "list index out of range",
     "output_type": "error",
     "traceback": [
      "\u001b[1;31m---------------------------------------------------------------------------\u001b[0m",
      "\u001b[1;31mIndexError\u001b[0m                                Traceback (most recent call last)",
      "\u001b[1;32m<ipython-input-9-545d4295d01a>\u001b[0m in \u001b[0;36m<module>\u001b[1;34m()\u001b[0m\n\u001b[0;32m      8\u001b[0m     \u001b[0mfile_loc\u001b[0m \u001b[1;33m=\u001b[0m \u001b[1;33m[\u001b[0m\u001b[0mos\u001b[0m\u001b[1;33m.\u001b[0m\u001b[0mpath\u001b[0m\u001b[1;33m.\u001b[0m\u001b[0mjoin\u001b[0m\u001b[1;33m(\u001b[0m\u001b[0mmerged\u001b[0m\u001b[1;33m,\u001b[0m\u001b[1;34m'{}'\u001b[0m\u001b[1;33m.\u001b[0m\u001b[0mformat\u001b[0m\u001b[1;33m(\u001b[0m\u001b[0mi\u001b[0m\u001b[1;33m)\u001b[0m\u001b[1;33m)\u001b[0m \u001b[1;32mfor\u001b[0m \u001b[0mi\u001b[0m \u001b[1;32min\u001b[0m \u001b[0mm\u001b[0m\u001b[1;33m]\u001b[0m\u001b[1;33m\u001b[0m\u001b[0m\n\u001b[0;32m      9\u001b[0m     \u001b[1;32mprint\u001b[0m\u001b[1;33m(\u001b[0m\u001b[0mfile_loc\u001b[0m\u001b[1;33m)\u001b[0m\u001b[1;33m\u001b[0m\u001b[0m\n\u001b[1;32m---> 10\u001b[1;33m     \u001b[0mcalcMean\u001b[0m\u001b[1;33m(\u001b[0m\u001b[0mfile_loc\u001b[0m\u001b[1;33m,\u001b[0m\u001b[0mmerged\u001b[0m\u001b[1;33m,\u001b[0m\u001b[0mcount\u001b[0m\u001b[1;33m)\u001b[0m\u001b[1;33m\u001b[0m\u001b[0m\n\u001b[0m\u001b[0;32m     11\u001b[0m \u001b[1;33m\u001b[0m\u001b[0m\n\u001b[0;32m     12\u001b[0m     \u001b[0mcount\u001b[0m \u001b[1;33m=\u001b[0m \u001b[0mcount\u001b[0m \u001b[1;33m+\u001b[0m \u001b[1;36m1\u001b[0m\u001b[1;33m\u001b[0m\u001b[0m\n",
      "\u001b[1;32m<ipython-input-8-cfe4f880e810>\u001b[0m in \u001b[0;36mcalcMean\u001b[1;34m(file_loc, merged, count)\u001b[0m\n\u001b[0;32m      9\u001b[0m         \u001b[0mdata\u001b[0m \u001b[1;33m=\u001b[0m \u001b[1;33m[\u001b[0m\u001b[0mm\u001b[0m\u001b[1;33m.\u001b[0m\u001b[0mread_band\u001b[0m\u001b[1;33m(\u001b[0m\u001b[1;36m1\u001b[0m\u001b[1;33m)\u001b[0m \u001b[1;32mfor\u001b[0m \u001b[0mm\u001b[0m \u001b[1;32min\u001b[0m \u001b[0mmonth\u001b[0m\u001b[1;33m]\u001b[0m\u001b[1;33m\u001b[0m\u001b[0m\n\u001b[0;32m     10\u001b[0m \u001b[1;33m\u001b[0m\u001b[0m\n\u001b[1;32m---> 11\u001b[1;33m         \u001b[1;32mprint\u001b[0m\u001b[1;33m(\u001b[0m\u001b[0mdata\u001b[0m\u001b[1;33m[\u001b[0m\u001b[1;36m0\u001b[0m\u001b[1;33m]\u001b[0m\u001b[1;33m.\u001b[0m\u001b[0mshape\u001b[0m\u001b[1;33m)\u001b[0m\u001b[1;33m\u001b[0m\u001b[0m\n\u001b[0m\u001b[0;32m     12\u001b[0m \u001b[1;33m\u001b[0m\u001b[0m\n\u001b[0;32m     13\u001b[0m \u001b[1;33m\u001b[0m\u001b[0m\n",
      "\u001b[1;31mIndexError\u001b[0m: list index out of range"
     ]
    }
   ],
   "source": [
    "merged = os.path.join(dest,'merged')\n",
    "month_list = []\n",
    "count = 0\n",
    "for j in range(1,13):\n",
    "    dates = [date for date in os.listdir(merged) if \"{}.01\".format(j) in date]\n",
    "    month_list.append(dates)\n",
    "for m in month_list:\n",
    "    file_loc = [os.path.join(merged,'{}'.format(i)) for i in m]\n",
    "    print(file_loc)\n",
    "    calcMean(file_loc,merged,count)\n",
    "    \n",
    "    count = count + 1"
   ]
  },
  {
   "cell_type": "code",
   "execution_count": 8,
   "metadata": {
    "collapsed": false
   },
   "outputs": [],
   "source": [
    "def calcMean(file_loc,merged,count):\n",
    "    climate = os.path.join(dest,'climatology')\n",
    "    if not os.path.exists(climate):\n",
    "        os.mkdir(climate)\n",
    "    out = os.path.join(climate,'EVI_{}.tif'.format(count))\n",
    "    total_sum = 0\n",
    "    with rio.Env():\n",
    "        month = [rio.open(f) for f in file_loc]\n",
    "        data = [m.read_band(1) for m in month]\n",
    "\n",
    "        print(data[0].shape)\n",
    "\n",
    "\n",
    "        raw = [np.where(data[d] == -3000, np.nan, data[d]) for d in range(0,len(data))]\n",
    "        for r in range(0,len(raw)):\n",
    "            total_sum = total_sum + raw[r]\n",
    "        mean = total_sum / len(data)\n",
    "\n",
    "        profile = month[0].profile\n",
    "        src_prj = month[0].crs\n",
    "        src_trans = month[0].transform\n",
    "        rows = month[0].height\n",
    "        cols = month[0].width\n",
    "        profile['nodata'] = -3000\n",
    "\n",
    "        print(profile)\n",
    "\n",
    "        with rio.open(out, 'w', **profile) as dst:\n",
    "            dst_array = np.empty((rows, cols), dtype='int16')\n",
    "            reproject(\n",
    "                        # Source parameters\n",
    "                        source=mean,\n",
    "                        src_crs=src_prj,\n",
    "                        src_transform=src_trans,\n",
    "                        src_nodata = 0,\n",
    "                        # Destination paramaters\n",
    "                        destination=dst_array,\n",
    "                        dst_transform=src_trans,\n",
    "                        dst_crs=src_prj,\n",
    "                        dst_nodata=-3000,\n",
    "                        resampling=0\n",
    "                    )\n",
    "\n",
    "            dst.write(dst_array,1)"
   ]
  },
  {
   "cell_type": "code",
   "execution_count": 12,
   "metadata": {
    "collapsed": false
   },
   "outputs": [
    {
     "data": {
      "text/plain": [
       "array([[-3000, -3000, -3000, ..., -3000, -3000, -3000],\n",
       "       [-3000, -3000, -3000, ..., -3000, -3000, -3000],\n",
       "       [-3000, -3000, -3000, ..., -3000, -3000, -3000],\n",
       "       ..., \n",
       "       [-3000, -3000, -3000, ..., -3000, -3000, -3000],\n",
       "       [-3000, -3000, -3000, ..., -3000, -3000, -3000],\n",
       "       [-3000, -3000, -3000, ..., -3000, -3000, -3000]], dtype=int16)"
      ]
     },
     "execution_count": 12,
     "metadata": {},
     "output_type": "execute_result"
    }
   ],
   "source": [
    "dst_array"
   ]
  },
  {
   "cell_type": "code",
   "execution_count": null,
   "metadata": {
    "collapsed": false
   },
   "outputs": [],
   "source": []
  },
  {
   "cell_type": "markdown",
   "metadata": {},
   "source": [
    "## Reproject File"
   ]
  },
  {
   "cell_type": "code",
   "execution_count": 37,
   "metadata": {
    "collapsed": false
   },
   "outputs": [
    {
     "name": "stdout",
     "output_type": "stream",
     "text": [
      "data/climatology/EVI_0.tif\n",
      "{'count': 1, 'crs': {u'a': 6371007.181, u'lon_0': 0, u'no_defs': True, u'y_0': 0, u'b': 6371007.181, u'proj': u'sinu', u'x_0': 0, u'units': u'm'}, 'dtype': 'int16', 'affine': Affine(926.6254330549995, 0.0, -12231455.716333,\n",
      "       0.0, -926.6254330558334, 5559752.598333), 'driver': 'GTiff', 'transform': (-12231455.716333, 926.6254330549995, 0.0, 5559752.598333, 0.0, -926.6254330558334), 'height': 6000, 'width': 3600, 'nodata': -3000.0}\n",
      "| 0.01, 0.00,-127.83|\n",
      "| 0.00,-0.01, 50.00|\n",
      "| 0.00, 0.00, 1.00|\n",
      "{'count': 1, 'crs': {'units': 'm', 'init': 'epsg:4326'}, 'dtype': 'int16', 'affine': Affine(0.01, 0.0, -127.829404882663,\n",
      "       0.0, -0.01, 49.9999999955068), 'driver': 'GTiff', 'transform': Affine(0.01, 0.0, -127.829404882663,\n",
      "       0.0, -0.01, 49.9999999955068), 'height': 4482, 'width': 6878, 'nodata': -3000.0}\n",
      "data/climatology/EVI_1.tif\n",
      "{'count': 1, 'crs': {u'a': 6371007.181, u'lon_0': 0, u'no_defs': True, u'y_0': 0, u'b': 6371007.181, u'proj': u'sinu', u'x_0': 0, u'units': u'm'}, 'dtype': 'int16', 'affine': Affine(926.6254330549995, 0.0, -12231455.716333,\n",
      "       0.0, -926.6254330558334, 5559752.598333), 'driver': 'GTiff', 'transform': (-12231455.716333, 926.6254330549995, 0.0, 5559752.598333, 0.0, -926.6254330558334), 'height': 6000, 'width': 8400, 'nodata': -3000.0}\n",
      "| 0.01, 0.00,-127.83|\n",
      "| 0.00,-0.01, 50.00|\n",
      "| 0.00, 0.00, 1.00|\n",
      "{'count': 1, 'crs': {'units': 'm', 'init': 'epsg:4326'}, 'dtype': 'int16', 'affine': Affine(0.01, 0.0, -127.829404882663,\n",
      "       0.0, -0.01, 49.9999999955068), 'driver': 'GTiff', 'transform': Affine(0.01, 0.0, -127.829404882663,\n",
      "       0.0, -0.01, 49.9999999955068), 'height': 4482, 'width': 6878, 'nodata': -3000.0}\n"
     ]
    }
   ],
   "source": [
    "climate = os.path.join(dest,'climatology')\n",
    "epsg = os.path.join(climate,'4326')\n",
    "output = os.path.join(epsg,'%s.tif' % ('January'))\n",
    "for e in os.listdir(climate):\n",
    "    if \".aux.xml\" in e or \"4326\" in e:\n",
    "        pass\n",
    "    else:\n",
    "        gtiff = os.path.join(climate,'{}'.format(e))\n",
    "        #print(os.path.join(climate,'{}'.format(e)))\n",
    "        if not os.path.exists(epsg):\n",
    "            os.makedirs(epsg)\n",
    "        output = os.path.join(epsg,'{}'.format(e))\n",
    "        print(gtiff)\n",
    "        project2wgs(gtiff)"
   ]
  },
  {
   "cell_type": "code",
   "execution_count": 21,
   "metadata": {
    "collapsed": false
   },
   "outputs": [],
   "source": [
    "def project2wgs(gtiff):\n",
    "    with rio.Env():\n",
    "        with rio.open(gtiff) as src:\n",
    "            l, b, r, t = src.bounds\n",
    "            out_kwargs = src.meta.copy()\n",
    "            out_kwargs['driver'] = 'GTiff'\n",
    "\n",
    "            print(out_kwargs)\n",
    "\n",
    "            res = (0.01, 0.01)\n",
    "            dst_crs = crs.from_string('+units=m +init=epsg:4326')\n",
    "\n",
    "            #dst_width, dst_height = src.width, src.height\n",
    "            xmin, ymin, xmax, ymax = [-127.8294048826629989,5.1830409679864857,-59.0561278820333229,49.9999999955067977]#transform_bounds(src.crs, dst_crs, *src.bounds)\n",
    "            dst_transform = Affine(res[0], 0, xmin, 0, -res[1], ymax)\n",
    "            dst_width = max(int(ceil((xmax - xmin) / res[0])), 1)\n",
    "            dst_height = max(int(ceil((ymax - ymin) / res[1])), 1)\n",
    "            print(dst_transform)\n",
    "\n",
    "            out_kwargs.update({\n",
    "                    'crs': dst_crs,\n",
    "                    'transform': dst_transform,\n",
    "                    'affine': dst_transform,\n",
    "                    'width': dst_width,\n",
    "                    'height': dst_height\n",
    "                })\n",
    "            dst_shape = (dst_height, dst_width)\n",
    "            destination = np.empty(dst_shape, rio.int16)\n",
    "\n",
    "            print(out_kwargs)\n",
    "\n",
    "            with rio.open(output, 'w', **out_kwargs) as dst:\n",
    "                reproject(\n",
    "                    source=rio.band(src, 1),\n",
    "                    destination=rio.band(dst, 1),\n",
    "                    src_transform=src.affine,\n",
    "                    src_crs=src.crs,\n",
    "                    src_nodata=src.nodata,\n",
    "                    dst_transform=out_kwargs['transform'],\n",
    "                    dst_crs=out_kwargs['crs'],\n",
    "                    dst_nodata=src.nodata,\n",
    "                    resampling=0,\n",
    "                    num_threads=2)"
   ]
  },
  {
   "cell_type": "markdown",
   "metadata": {
    "collapsed": true
   },
   "source": [
    "## Numpy to Xarray"
   ]
  },
  {
   "cell_type": "code",
   "execution_count": null,
   "metadata": {
    "collapsed": false
   },
   "outputs": [],
   "source": [
    "with rio.Env():\n",
    "    with rio.open(output) as da:\n",
    "        print(da.meta)\n",
    "        data = da.read(1)       \n",
    "        data = np.where(data == da.nodata, np.nan, data)\n",
    "        print(data)\n",
    "        \n",
    "        # Get coords\n",
    "        nx, ny = da.width, da.height\n",
    "        x0, y0 = da.bounds.left, da.bounds.top\n",
    "        dx, dy = da.res[0], -da.res[1]\n",
    "\n",
    "        coords = {'lat': np.arange(start=y0, stop=(y0 + ny * dy), step=dy),\n",
    "                  'lon': np.arange(start=x0, stop=(x0 + nx * dx), step=dx)}\n",
    "        \n",
    "        dims = ('band', 'lat', 'lon')\n",
    "        coords['band'] = da.indexes\n",
    "        \n",
    "        attrs = {}\n",
    "        for attr_name in ['crs', 'affine', 'proj']:\n",
    "            try:\n",
    "                attrs[attr_name] = getattr(da, attr_name)\n",
    "            except AttributeError:\n",
    "                pass\n",
    "        \n",
    "        ds = xr.DataArray(data, dims=dims, name='raster',coords=coords)"
   ]
  },
  {
   "cell_type": "code",
   "execution_count": null,
   "metadata": {
    "collapsed": false
   },
   "outputs": [],
   "source": [
    "da.indexes"
   ]
  },
  {
   "cell_type": "code",
   "execution_count": null,
   "metadata": {
    "collapsed": true
   },
   "outputs": [],
   "source": []
  }
 ],
 "metadata": {
  "kernelspec": {
   "display_name": "Python 2",
   "language": "python",
   "name": "python2"
  },
  "language_info": {
   "codemirror_mode": {
    "name": "ipython",
    "version": 2
   },
   "file_extension": ".py",
   "mimetype": "text/x-python",
   "name": "python",
   "nbconvert_exporter": "python",
   "pygments_lexer": "ipython2",
   "version": "2.7.11"
  }
 },
 "nbformat": 4,
 "nbformat_minor": 0
}
