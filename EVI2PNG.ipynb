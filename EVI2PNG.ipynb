{
 "cells": [
  {
   "cell_type": "markdown",
   "metadata": {},
   "source": [
    "# Converting EVI Geotiff to PNG"
   ]
  },
  {
   "cell_type": "code",
   "execution_count": 1,
   "metadata": {
    "collapsed": false
   },
   "outputs": [],
   "source": [
    "%matplotlib inline"
   ]
  },
  {
   "cell_type": "code",
   "execution_count": 2,
   "metadata": {
    "collapsed": true
   },
   "outputs": [],
   "source": [
    "import matplotlib.pyplot as plt\n",
    "import matplotlib as mpl\n",
    "import os\n",
    "import numpy as np\n",
    "import xarray as xr\n",
    "import rasterio as rio"
   ]
  },
  {
   "cell_type": "code",
   "execution_count": 3,
   "metadata": {
    "collapsed": false
   },
   "outputs": [
    {
     "name": "stdout",
     "output_type": "stream",
     "text": [
      "/Users/lsetiawan/Desktop/shared_ubuntu/APL/MODIS/data/climatology/EVI_1.tif\n"
     ]
    }
   ],
   "source": [
    "pth = \"/Users/lsetiawan/Desktop/shared_ubuntu/APL/MODIS/data/climatology/\"\n",
    "fil = os.path.join(pth,\"EVI_1.tif\")\n",
    "print(fil)"
   ]
  },
  {
   "cell_type": "code",
   "execution_count": 4,
   "metadata": {
    "collapsed": false
   },
   "outputs": [
    {
     "name": "stdout",
     "output_type": "stream",
     "text": [
      "{'count': 1, 'crs': {'init': u'epsg:4326'}, 'dtype': 'int16', 'affine': Affine(0.01, 0.0, -127.829404882663,\n",
      "       0.0, -0.01, 49.9999999955068), 'driver': u'GTiff', 'transform': (-127.829404882663, 0.01, 0.0, 49.9999999955068, 0.0, -0.01), 'height': 4482, 'width': 6878, 'nodata': -3000.0}\n"
     ]
    }
   ],
   "source": [
    "# Open EVI data and read values\n",
    "with rio.drivers():\n",
    "    with rio.open(fil) as src:\n",
    "        print(src.meta)\n",
    "        data = src.read(1)\n"
   ]
  },
  {
   "cell_type": "code",
   "execution_count": 5,
   "metadata": {
    "collapsed": true
   },
   "outputs": [],
   "source": [
    "def make_cmap(colors, position=None, bit=False):\n",
    "    '''\n",
    "    make_cmap takes a list of tuples which contain RGB values. The RGB\n",
    "    values may either be in 8-bit [0 to 255] (in which bit must be set to\n",
    "    True when called) or arithmetic [0 to 1] (default). make_cmap returns\n",
    "    a cmap with equally spaced colors.\n",
    "    Arrange your tuples so that the first color is the lowest value for the\n",
    "    colorbar and the last is the highest.\n",
    "    position contains values from 0 to 1 to dictate the location of each color.\n",
    "    '''\n",
    "    import matplotlib as mpl\n",
    "    import numpy as np\n",
    "    bit_rgb = np.linspace(0,1,256)\n",
    "    if position == None:\n",
    "        position = np.linspace(0,1,len(colors))\n",
    "    else:\n",
    "        if len(position) != len(colors):\n",
    "            sys.exit(\"position length must be the same as colors\")\n",
    "        elif position[0] != 0 or position[-1] != 1:\n",
    "            sys.exit(\"position must start with 0 and end with 1\")\n",
    "    if bit:\n",
    "        for i in range(len(colors)):\n",
    "            colors[i] = (bit_rgb[colors[i][0]],\n",
    "                         bit_rgb[colors[i][1]],\n",
    "                         bit_rgb[colors[i][2]])\n",
    "    cdict = {'red':[], 'green':[], 'blue':[]}\n",
    "    for pos, color in zip(position, colors):\n",
    "        cdict['red'].append((pos, color[0], color[0]))\n",
    "        cdict['green'].append((pos, color[1], color[1]))\n",
    "        cdict['blue'].append((pos, color[2], color[2]))\n",
    "\n",
    "    cmap = mpl.colors.LinearSegmentedColormap('my_colormap',cdict,256)\n",
    "    return cmap\n",
    "\n",
    "### Create a list of RGB tuples\n",
    "colors = [(229,229,229),(182,165,134),(160,138,91),\n",
    "          (138,111,49),(140,127,43),(142,143,37),(144,159,31),\n",
    "          (146,175,25),(138,177,21),(119,165,18),(99,154,15),(80,142,12),\n",
    "          (60,131,9),(41,119,6),(22,108,3),(3,97,0),(0,23,0)] # This example uses the 8-bit RGB\n",
    "### Create an array or list of positions from 0 to 1.\n",
    "position = [0,0.04,0.08,0.12,0.16,0.20,0.24,0.28,0.32,0.36,0.40,0.44,0.48,0.52,0.56,0.60,1]\n",
    "evi_cmap = make_cmap(colors, position=position, bit=True)"
   ]
  },
  {
   "cell_type": "code",
   "execution_count": 6,
   "metadata": {
    "collapsed": true
   },
   "outputs": [],
   "source": [
    "from PIL import Image\n",
    "from pylab import cm"
   ]
  },
  {
   "cell_type": "code",
   "execution_count": 7,
   "metadata": {
    "collapsed": false
   },
   "outputs": [],
   "source": [
    "# Register Colormap\n",
    "cm.register_cmap(name='evi',cmap=evi_cmap)\n",
    "EVI = cm.get_cmap('evi')"
   ]
  },
  {
   "cell_type": "code",
   "execution_count": 8,
   "metadata": {
    "collapsed": false
   },
   "outputs": [
    {
     "name": "stdout",
     "output_type": "stream",
     "text": [
      "[[-- -- -- ..., -- -- --]\n",
      " [-- -- -- ..., -- -- --]\n",
      " [-- -- -- ..., -- -- --]\n",
      " ..., \n",
      " [-- -- -- ..., -- 0.33178654292343385 0.6518616727433433]\n",
      " [-- -- -- ..., -- -- 0.6373881339078555]\n",
      " [-- -- -- ..., -- 0.5724229366920782 0.4421610871726881]]\n"
     ]
    }
   ],
   "source": [
    "# Masking data, making no value transparent\n",
    "x = np.ma.masked_where(data < 0, data)\n",
    "# Normalizing data to make it from 0-1\n",
    "x_normed = x / float(x.max())\n",
    "print(x_normed)\n",
    "\n",
    "# Create Image from array and apply EVI, converting np array to values of 0-255\n",
    "im = Image.fromarray(EVI(x_normed, bytes=True))\n",
    "# Save image out\n",
    "im.save(os.path.join(\"/Users/lsetiawan/Desktop/\", '{0}.png'.format('EVI_1')))"
   ]
  },
  {
   "cell_type": "code",
   "execution_count": null,
   "metadata": {
    "collapsed": true
   },
   "outputs": [],
   "source": []
  }
 ],
 "metadata": {
  "kernelspec": {
   "display_name": "Python 2",
   "language": "python",
   "name": "python2"
  },
  "language_info": {
   "codemirror_mode": {
    "name": "ipython",
    "version": 2
   },
   "file_extension": ".py",
   "mimetype": "text/x-python",
   "name": "python",
   "nbconvert_exporter": "python",
   "pygments_lexer": "ipython2",
   "version": "2.7.11"
  }
 },
 "nbformat": 4,
 "nbformat_minor": 0
}
