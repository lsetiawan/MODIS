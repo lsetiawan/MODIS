{
 "cells": [
  {
   "cell_type": "markdown",
   "metadata": {},
   "source": [
    "# Converting EVI Geotiff to PNG"
   ]
  },
  {
   "cell_type": "code",
   "execution_count": 1,
   "metadata": {
    "collapsed": false
   },
   "outputs": [],
   "source": [
    "%matplotlib inline"
   ]
  },
  {
   "cell_type": "code",
   "execution_count": 2,
   "metadata": {
    "collapsed": true
   },
   "outputs": [],
   "source": [
    "import matplotlib.pyplot as plt\n",
    "import matplotlib as mpl\n",
    "import os\n",
    "import numpy as np\n",
    "import xarray as xr\n",
    "import rasterio as rio\n",
    "from PIL import Image\n",
    "from pylab import cm"
   ]
  },
  {
   "cell_type": "code",
   "execution_count": 3,
   "metadata": {
    "collapsed": false
   },
   "outputs": [
    {
     "name": "stdout",
     "output_type": "stream",
     "text": [
      "/Users/lsetiawan/Desktop/shared_ubuntu/APL/MODIS/data/climatology/EVI_1.tif\n"
     ]
    }
   ],
   "source": [
    "pth = \"/Users/lsetiawan/Desktop/shared_ubuntu/APL/MODIS/data/climatology/\"\n",
    "fil = os.path.join(pth,\"EVI_1.tif\")\n",
    "print(fil)"
   ]
  },
  {
   "cell_type": "code",
   "execution_count": null,
   "metadata": {
    "collapsed": false
   },
   "outputs": [],
   "source": [
    "# Open EVI data and read values\n",
    "with rio.drivers():\n",
    "    with rio.open(fil) as src:\n",
    "        print(src.meta)\n",
    "        data = src.read(1)\n"
   ]
  },
  {
   "cell_type": "code",
   "execution_count": 4,
   "metadata": {
    "collapsed": true
   },
   "outputs": [],
   "source": [
    "def make_cmap(colors, position=None, bit=False):\n",
    "    '''\n",
    "    make_cmap takes a list of tuples which contain RGB values. The RGB\n",
    "    values may either be in 8-bit [0 to 255] (in which bit must be set to\n",
    "    True when called) or arithmetic [0 to 1] (default). make_cmap returns\n",
    "    a cmap with equally spaced colors.\n",
    "    Arrange your tuples so that the first color is the lowest value for the\n",
    "    colorbar and the last is the highest.\n",
    "    position contains values from 0 to 1 to dictate the location of each color.\n",
    "    '''\n",
    "    import matplotlib as mpl\n",
    "    import numpy as np\n",
    "    bit_rgb = np.linspace(0,1,256)\n",
    "    if position == None:\n",
    "        position = np.linspace(0,1,len(colors))\n",
    "    else:\n",
    "        if len(position) != len(colors):\n",
    "            sys.exit(\"position length must be the same as colors\")\n",
    "        elif position[0] != 0 or position[-1] != 1:\n",
    "            sys.exit(\"position must start with 0 and end with 1\")\n",
    "    if bit:\n",
    "        for i in range(len(colors)):\n",
    "            colors[i] = (bit_rgb[colors[i][0]],\n",
    "                         bit_rgb[colors[i][1]],\n",
    "                         bit_rgb[colors[i][2]])\n",
    "    cdict = {'red':[], 'green':[], 'blue':[]}\n",
    "    for pos, color in zip(position, colors):\n",
    "        cdict['red'].append((pos, color[0], color[0]))\n",
    "        cdict['green'].append((pos, color[1], color[1]))\n",
    "        cdict['blue'].append((pos, color[2], color[2]))\n",
    "\n",
    "    cmap = mpl.colors.LinearSegmentedColormap('my_colormap',cdict,256)\n",
    "    return cmap\n",
    "\n",
    "### Create a list of RGB tuples\n",
    "colors = [(229,229,229),(182,165,134),(160,138,91),\n",
    "          (138,111,49),(140,127,43),(142,143,37),(144,159,31),\n",
    "          (146,175,25),(138,177,21),(119,165,18),(99,154,15),(80,142,12),\n",
    "          (60,131,9),(41,119,6),(22,108,3),(3,97,0),(0,23,0)] # This example uses the 8-bit RGB\n",
    "### Create an array or list of positions from 0 to 1.\n",
    "position = [0,0.04,0.08,0.12,0.16,0.20,0.24,0.28,0.32,0.36,0.40,0.44,0.48,0.52,0.56,0.60,1]\n",
    "evi_cmap = make_cmap(colors, position=position, bit=True)"
   ]
  },
  {
   "cell_type": "code",
   "execution_count": null,
   "metadata": {
    "collapsed": true
   },
   "outputs": [],
   "source": [
    "from PIL import Image\n",
    "from pylab import cm"
   ]
  },
  {
   "cell_type": "code",
   "execution_count": null,
   "metadata": {
    "collapsed": false
   },
   "outputs": [],
   "source": [
    "# Register Colormap\n",
    "cm.register_cmap(name='evi',cmap=evi_cmap)\n",
    "EVI = cm.get_cmap('evi')"
   ]
  },
  {
   "cell_type": "code",
   "execution_count": null,
   "metadata": {
    "collapsed": false
   },
   "outputs": [],
   "source": [
    "# Masking data, making no value transparent\n",
    "x = np.ma.masked_where(data < 0, data)\n",
    "# Normalizing data to make it from 0-1\n",
    "x_normed = x / float(x.max())\n",
    "print(x_normed)\n",
    "\n",
    "# Create Image from array and apply EVI, converting np array to values of 0-255\n",
    "im = Image.fromarray(EVI(x_normed, bytes=True))\n",
    "# Save image out\n",
    "im.save(os.path.join(\"/Users/lsetiawan/Desktop/\", '{0}.png'.format('EVI_1')))"
   ]
  },
  {
   "cell_type": "code",
   "execution_count": 6,
   "metadata": {
    "collapsed": true
   },
   "outputs": [],
   "source": [
    "def createPNG(fil,name):\n",
    "    ### Create a list of RGB tuples\n",
    "    colors = [(229,229,229),(182,165,134),(160,138,91),\n",
    "              (138,111,49),(140,127,43),(142,143,37),(144,159,31),\n",
    "              (146,175,25),(138,177,21),(119,165,18),(99,154,15),(80,142,12),\n",
    "              (60,131,9),(41,119,6),(22,108,3),(3,97,0),(0,23,0)] # This example uses the 8-bit RGB\n",
    "    ### Create an array or list of positions from 0 to 1.\n",
    "    position = [0,0.04,0.08,0.12,0.16,0.20,0.24,0.28,0.32,0.36,0.40,0.44,0.48,0.52,0.56,0.60,1]\n",
    "    evi_cmap = make_cmap(colors, position=position, bit=True)\n",
    "    cm.register_cmap(name='evi',cmap=evi_cmap)\n",
    "    EVI = cm.get_cmap('evi')\n",
    "    \n",
    "    # Open EVI data and read values\n",
    "    with rio.drivers():\n",
    "        with rio.open(fil) as src:\n",
    "            print(src.meta)\n",
    "            data = src.read(1)\n",
    "    # Masking data, making no value transparent\n",
    "    x = np.ma.masked_where(data < 0, data)\n",
    "    # Normalizing data to make it from 0-1\n",
    "    x_normed = x / float(x.max())\n",
    "    print(x_normed)\n",
    "\n",
    "    # Create Image from array and apply EVI, converting np array to values of 0-255\n",
    "    im = Image.fromarray(EVI(x_normed, bytes=True))\n",
    "    # Save image out\n",
    "    im.save(os.path.join(\"/Users/lsetiawan/Desktop/\", '{0}.png'.format(name)))"
   ]
  },
  {
   "cell_type": "code",
   "execution_count": 7,
   "metadata": {
    "collapsed": false
   },
   "outputs": [
    {
     "name": "stdout",
     "output_type": "stream",
     "text": [
      "{'count': 1, 'crs': {'init': u'epsg:4326'}, 'dtype': 'int16', 'affine': Affine(0.01, 0.0, -127.829404882663,\n",
      "       0.0, -0.01, 49.9999999955068), 'driver': u'GTiff', 'transform': (-127.829404882663, 0.01, 0.0, 49.9999999955068, 0.0, -0.01), 'height': 4482, 'width': 6878, 'nodata': -3000.0}\n",
      "[[-- -- -- ..., -- -- --]\n",
      " [-- -- -- ..., -- -- --]\n",
      " [-- -- -- ..., -- -- --]\n",
      " ..., \n",
      " [-- -- -- ..., -- 0.33178654292343385 0.6518616727433433]\n",
      " [-- -- -- ..., -- -- 0.6373881339078555]\n",
      " [-- -- -- ..., -- 0.5724229366920782 0.4421610871726881]]\n",
      "{'count': 1, 'crs': {'init': u'epsg:4326'}, 'dtype': 'int16', 'affine': Affine(0.01, 0.0, -127.829404882663,\n",
      "       0.0, -0.01, 49.9999999955068), 'driver': u'GTiff', 'transform': (-127.829404882663, 0.01, 0.0, 49.9999999955068, 0.0, -0.01), 'height': 4482, 'width': 6878, 'nodata': -3000.0}\n",
      "[[-- -- -- ..., -- -- --]\n",
      " [-- -- -- ..., -- -- --]\n",
      " [-- -- -- ..., -- -- --]\n",
      " ..., \n",
      " [-- -- -- ..., 0.3204757670075589 0.4848821698532681 0.43663850600266785]\n",
      " [-- -- -- ..., 0.6204979991107159 0.6423966207203201 0.4052912405513562]\n",
      " [-- -- -- ..., 0.4667630057803468 0.5513561582925744 0.22087594486438417]]\n",
      "{'count': 1, 'crs': {'init': u'epsg:4326'}, 'dtype': 'int16', 'affine': Affine(0.01, 0.0, -127.829404882663,\n",
      "       0.0, -0.01, 49.9999999955068), 'driver': u'GTiff', 'transform': (-127.829404882663, 0.01, 0.0, 49.9999999955068, 0.0, -0.01), 'height': 4482, 'width': 6878, 'nodata': -3000.0}\n",
      "[[-- -- -- ..., -- -- --]\n",
      " [-- -- -- ..., -- -- --]\n",
      " [-- -- -- ..., -- -- --]\n",
      " ..., \n",
      " [-- -- -- ..., 0.674066924066924 0.6677391677391677 0.6156156156156156]\n",
      " [-- -- -- ..., 0.7032389532389532 0.697983697983698 0.5926640926640927]\n",
      " [-- -- -- ..., 0.6364221364221364 0.5663878163878164 0.3595023595023595]]\n",
      "{'count': 1, 'crs': {'init': u'epsg:4326'}, 'dtype': 'int16', 'affine': Affine(0.01, 0.0, -127.829404882663,\n",
      "       0.0, -0.01, 49.9999999955068), 'driver': u'GTiff', 'transform': (-127.829404882663, 0.01, 0.0, 49.9999999955068, 0.0, -0.01), 'height': 4482, 'width': 6878, 'nodata': -3000.0}\n",
      "[[-- -- -- ..., -- -- --]\n",
      " [-- -- -- ..., -- -- --]\n",
      " [-- -- -- ..., -- -- --]\n",
      " ..., \n",
      " [-- -- -- ..., 0.68337617823479 0.5911525278491859 0.5680162810625535]\n",
      " [-- -- -- ..., 0.6781276778063411 0.6579905741216795 0.5394173093401885]\n",
      " [-- -- -- ..., 0.6729862896315338 0.6970865467009426 0.5621251071122536]]\n",
      "{'count': 1, 'crs': {'init': u'epsg:4326'}, 'dtype': 'int16', 'affine': Affine(0.01, 0.0, -127.829404882663,\n",
      "       0.0, -0.01, 49.9999999955068), 'driver': u'GTiff', 'transform': (-127.829404882663, 0.01, 0.0, 49.9999999955068, 0.0, -0.01), 'height': 4482, 'width': 6878, 'nodata': -3000.0}\n",
      "[[-- -- -- ..., -- -- --]\n",
      " [-- -- -- ..., -- -- --]\n",
      " [-- -- -- ..., -- -- --]\n",
      " ..., \n",
      " [-- -- -- ..., -- 0.34608735738158347 0.6799585110061082]\n",
      " [-- -- -- ..., -- 0.5157312435173447 0.6648611271176674]\n",
      " [-- -- -- ..., 0.5077791863547308 0.4364411663017172 0.45199953901117895]]\n",
      "{'count': 1, 'crs': {'init': u'epsg:4326'}, 'dtype': 'int16', 'affine': Affine(0.01, 0.0, -127.829404882663,\n",
      "       0.0, -0.01, 49.9999999955068), 'driver': u'GTiff', 'transform': (-127.829404882663, 0.01, 0.0, 49.9999999955068, 0.0, -0.01), 'height': 4482, 'width': 6878, 'nodata': -3000.0}\n",
      "[[-- -- -- ..., -- -- --]\n",
      " [-- -- -- ..., -- -- --]\n",
      " [-- -- -- ..., -- -- --]\n",
      " ..., \n",
      " [-- -- -- ..., -- 0.8609332113449222 0.8417200365965233]\n",
      " [-- -- -- ..., 0.4775846294602013 0.901875571820677 0.47209515096065874]\n",
      " [-- -- -- ..., 0.5551235132662397 0.47655535224153706 0.38311985361390666]]\n",
      "{'count': 1, 'crs': {'init': u'epsg:4326'}, 'dtype': 'int16', 'affine': Affine(0.01, 0.0, -127.829404882663,\n",
      "       0.0, -0.01, 49.9999999955068), 'driver': u'GTiff', 'transform': (-127.829404882663, 0.01, 0.0, 49.9999999955068, 0.0, -0.01), 'height': 4482, 'width': 6878, 'nodata': -3000.0}\n",
      "[[-- -- -- ..., -- -- --]\n",
      " [-- -- -- ..., -- -- --]\n",
      " [-- -- -- ..., -- -- --]\n",
      " ..., \n",
      " [-- -- -- ..., -- -- 0.6304487179487179]\n",
      " [-- -- -- ..., -- -- 0.6052350427350427]\n",
      " [-- -- -- ..., 0.49903846153846154 0.6450854700854701 --]]\n",
      "{'count': 1, 'crs': {'init': u'epsg:4326'}, 'dtype': 'int16', 'affine': Affine(0.01, 0.0, -127.829404882663,\n",
      "       0.0, -0.01, 49.9999999955068), 'driver': u'GTiff', 'transform': (-127.829404882663, 0.01, 0.0, 49.9999999955068, 0.0, -0.01), 'height': 4482, 'width': 6878, 'nodata': -3000.0}\n",
      "[[-- -- -- ..., -- -- --]\n",
      " [-- -- -- ..., -- -- --]\n",
      " [-- -- -- ..., -- -- --]\n",
      " ..., \n",
      " [-- -- -- ..., -- -- 0.6192531836822793]\n",
      " [-- -- -- ..., -- 0.45855816965249296 0.44064321174185195]\n",
      " [-- -- -- ..., 0.5825598963954242 0.42240448953162096 0.4675156486078135]]\n",
      "{'count': 1, 'crs': {'init': u'epsg:4326'}, 'dtype': 'int16', 'affine': Affine(0.01, 0.0, -127.829404882663,\n",
      "       0.0, -0.01, 49.9999999955068), 'driver': u'GTiff', 'transform': (-127.829404882663, 0.01, 0.0, 49.9999999955068, 0.0, -0.01), 'height': 4482, 'width': 6878, 'nodata': -3000.0}\n",
      "[[-- -- -- ..., -- -- --]\n",
      " [-- -- -- ..., -- -- --]\n",
      " [-- -- -- ..., -- -- --]\n",
      " ..., \n",
      " [-- -- -- ..., 0.24819915254237288 0.2798728813559322 0.45010593220338985]\n",
      " [-- -- -- ..., -- -- 0.44671610169491527]\n",
      " [-- -- -- ..., 0.3663135593220339 0.2201271186440678 0.5140889830508475]]\n",
      "{'count': 1, 'crs': {'init': u'epsg:4326'}, 'dtype': 'int16', 'affine': Affine(0.01, 0.0, -127.829404882663,\n",
      "       0.0, -0.01, 49.9999999955068), 'driver': u'GTiff', 'transform': (-127.829404882663, 0.01, 0.0, 49.9999999955068, 0.0, -0.01), 'height': 4482, 'width': 6878, 'nodata': -3000.0}\n",
      "[[-- -- -- ..., -- -- --]\n",
      " [-- -- -- ..., -- -- --]\n",
      " [-- -- -- ..., -- -- --]\n",
      " ..., \n",
      " [-- -- -- ..., 0.6171570748593682 0.557442665512765 0.5669623539593249]\n",
      " [-- -- -- ..., 0.6040675032453483 0.5996321938554738 0.593574210298572]\n",
      " [-- -- -- ..., 0.5576590220683687 0.6443098225876244 0.6315447858070099]]\n",
      "{'count': 1, 'crs': {'init': u'epsg:4326'}, 'dtype': 'int16', 'affine': Affine(0.01, 0.0, -127.829404882663,\n",
      "       0.0, -0.01, 49.9999999955068), 'driver': u'GTiff', 'transform': (-127.829404882663, 0.01, 0.0, 49.9999999955068, 0.0, -0.01), 'height': 4482, 'width': 6878, 'nodata': -3000.0}\n",
      "[[-- -- -- ..., -- -- --]\n",
      " [-- -- -- ..., -- -- --]\n",
      " [-- -- -- ..., -- -- --]\n",
      " ..., \n",
      " [-- -- -- ..., 0.5467207151023802 0.5373661781519593 0.5424592038249663]\n",
      " [-- -- -- ..., 0.5496310154869556 0.6342376052385407 0.5402764785365347]\n",
      " [-- -- -- ..., 0.5668849391955099 0.607213387381769 0.3839517721650556]]\n",
      "{'count': 1, 'crs': {'init': u'epsg:4326'}, 'dtype': 'int16', 'affine': Affine(0.01, 0.0, -127.829404882663,\n",
      "       0.0, -0.01, 49.9999999955068), 'driver': u'GTiff', 'transform': (-127.829404882663, 0.01, 0.0, 49.9999999955068, 0.0, -0.01), 'height': 4482, 'width': 6878, 'nodata': -3000.0}\n",
      "[[-- -- -- ..., -- -- --]\n",
      " [-- -- -- ..., -- -- --]\n",
      " [-- -- -- ..., -- -- --]\n",
      " ..., \n",
      " [-- -- -- ..., 0.5789087093389297 0.5916054564533053 0.6205666316894018]\n",
      " [-- -- -- ..., 0.5802728226652676 0.6388247639034628 0.6056663168940188]\n",
      " [-- -- -- ..., 0.5153200419727177 0.6841552990556139 0.5989506820566631]]\n"
     ]
    }
   ],
   "source": [
    "pth = \"/Users/lsetiawan/Desktop/shared_ubuntu/APL/MODIS/data/climatology/\"\n",
    "#fil = os.path.join(pth,\"EVI_1.tif\")\n",
    "for f in os.listdir(pth):\n",
    "    if \".DS_Store\" in f or \".aux.xml\" in f:\n",
    "        pass\n",
    "    else:\n",
    "        fil = os.path.join(pth,\"{}\".format(f))\n",
    "        name = f.split('.')[0]\n",
    "        createPNG(fil,name)"
   ]
  },
  {
   "cell_type": "code",
   "execution_count": null,
   "metadata": {
    "collapsed": true
   },
   "outputs": [],
   "source": []
  }
 ],
 "metadata": {
  "kernelspec": {
   "display_name": "Python 2",
   "language": "python",
   "name": "python2"
  },
  "language_info": {
   "codemirror_mode": {
    "name": "ipython",
    "version": 2
   },
   "file_extension": ".py",
   "mimetype": "text/x-python",
   "name": "python",
   "nbconvert_exporter": "python",
   "pygments_lexer": "ipython2",
   "version": "2.7.11"
  }
 },
 "nbformat": 4,
 "nbformat_minor": 0
}
